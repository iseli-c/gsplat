{
  "cells": [
    {
      "cell_type": "markdown",
      "metadata": {
        "id": "view-in-github",
        "colab_type": "text"
      },
      "source": [
        "<a href=\"https://colab.research.google.com/github/iseli-c/gsplat/blob/main/nerfstudio_colab.ipynb\" target=\"_parent\"><img src=\"https://colab.research.google.com/assets/colab-badge.svg\" alt=\"Open In Colab\"/></a>"
      ]
    },
    {
      "cell_type": "code",
      "execution_count": 1,
      "metadata": {
        "colab": {
          "base_uri": "https://localhost:8080/"
        },
        "id": "lDejrWV4Fd4l",
        "outputId": "87e35357-070f-4aab-a23e-52c8902e6acc"
      },
      "outputs": [
        {
          "output_type": "stream",
          "name": "stdout",
          "text": [
            "Drive already mounted at /content/drive; to attempt to forcibly remount, call drive.mount(\"/content/drive\", force_remount=True).\n"
          ]
        }
      ],
      "source": [
        "from google.colab import drive\n",
        "drive.mount('/content/drive')"
      ]
    },
    {
      "cell_type": "markdown",
      "source": [
        "#Setup"
      ],
      "metadata": {
        "id": "ua5HuFA-avcO"
      }
    },
    {
      "cell_type": "code",
      "source": [
        "#@markdown <h1>Install Nerfstudio and Dependencies (~8 min)</h1>\n",
        "\n",
        "%cd /content/\n",
        "!pip install --upgrade pip\n",
        "!pip install torch==2.0.1+cu118 torchvision==0.15.2+cu118 torchaudio==2.0.2+cu118 --extra-index-url https://download.pytorch.org/whl/cu118\n",
        "\n",
        "# Installing TinyCuda\n",
        "%cd /content/\n",
        "!gdown \"https://drive.google.com/u/1/uc?id=1-7x7qQfB7bIw2zV4Lr6-yhvMpjXC84Q5&confirm=t\"\n",
        "!pip install tinycudann-1.7-cp310-cp310-linux_x86_64.whl\n",
        "\n",
        "# Installing COLMAP\n",
        "%cd /content/\n",
        "!apt-get install colmap\n",
        "\n",
        "# Install nerfstudio\n",
        "%cd /content/\n",
        "!pip install git+https://github.com/nerfstudio-project/nerfstudio.git"
      ],
      "metadata": {
        "colab": {
          "base_uri": "https://localhost:8080/"
        },
        "id": "YS5U_s5Qa4db",
        "outputId": "134d4e50-187b-46fc-e3b5-529b953407fb"
      },
      "execution_count": 2,
      "outputs": [
        {
          "output_type": "stream",
          "name": "stdout",
          "text": [
            "/content\n",
            "Requirement already satisfied: pip in /usr/local/lib/python3.10/dist-packages (24.0)\n",
            "\u001b[33mWARNING: Running pip as the 'root' user can result in broken permissions and conflicting behaviour with the system package manager. It is recommended to use a virtual environment instead: https://pip.pypa.io/warnings/venv\u001b[0m\u001b[33m\n",
            "\u001b[0mLooking in indexes: https://pypi.org/simple, https://download.pytorch.org/whl/cu118\n",
            "Requirement already satisfied: torch==2.0.1+cu118 in /usr/local/lib/python3.10/dist-packages (2.0.1+cu118)\n",
            "Requirement already satisfied: torchvision==0.15.2+cu118 in /usr/local/lib/python3.10/dist-packages (0.15.2+cu118)\n",
            "Requirement already satisfied: torchaudio==2.0.2+cu118 in /usr/local/lib/python3.10/dist-packages (2.0.2+cu118)\n",
            "Requirement already satisfied: filelock in /usr/local/lib/python3.10/dist-packages (from torch==2.0.1+cu118) (3.13.1)\n",
            "Requirement already satisfied: typing-extensions in /usr/local/lib/python3.10/dist-packages (from torch==2.0.1+cu118) (4.10.0)\n",
            "Requirement already satisfied: sympy in /usr/local/lib/python3.10/dist-packages (from torch==2.0.1+cu118) (1.12)\n",
            "Requirement already satisfied: networkx in /usr/local/lib/python3.10/dist-packages (from torch==2.0.1+cu118) (3.2.1)\n",
            "Requirement already satisfied: jinja2 in /usr/local/lib/python3.10/dist-packages (from torch==2.0.1+cu118) (3.1.3)\n",
            "Requirement already satisfied: triton==2.0.0 in /usr/local/lib/python3.10/dist-packages (from torch==2.0.1+cu118) (2.0.0)\n",
            "Requirement already satisfied: numpy in /usr/local/lib/python3.10/dist-packages (from torchvision==0.15.2+cu118) (1.25.2)\n",
            "Requirement already satisfied: requests in /usr/local/lib/python3.10/dist-packages (from torchvision==0.15.2+cu118) (2.31.0)\n",
            "Requirement already satisfied: pillow!=8.3.*,>=5.3.0 in /usr/local/lib/python3.10/dist-packages (from torchvision==0.15.2+cu118) (9.4.0)\n",
            "Requirement already satisfied: cmake in /usr/local/lib/python3.10/dist-packages (from triton==2.0.0->torch==2.0.1+cu118) (3.27.9)\n",
            "Requirement already satisfied: lit in /usr/local/lib/python3.10/dist-packages (from triton==2.0.0->torch==2.0.1+cu118) (18.1.1)\n",
            "Requirement already satisfied: MarkupSafe>=2.0 in /usr/local/lib/python3.10/dist-packages (from jinja2->torch==2.0.1+cu118) (2.1.5)\n",
            "Requirement already satisfied: charset-normalizer<4,>=2 in /usr/local/lib/python3.10/dist-packages (from requests->torchvision==0.15.2+cu118) (3.3.2)\n",
            "Requirement already satisfied: idna<4,>=2.5 in /usr/local/lib/python3.10/dist-packages (from requests->torchvision==0.15.2+cu118) (3.6)\n",
            "Requirement already satisfied: urllib3<3,>=1.21.1 in /usr/local/lib/python3.10/dist-packages (from requests->torchvision==0.15.2+cu118) (2.0.7)\n",
            "Requirement already satisfied: certifi>=2017.4.17 in /usr/local/lib/python3.10/dist-packages (from requests->torchvision==0.15.2+cu118) (2024.2.2)\n",
            "Requirement already satisfied: mpmath>=0.19 in /usr/local/lib/python3.10/dist-packages (from sympy->torch==2.0.1+cu118) (1.3.0)\n",
            "\u001b[33mWARNING: Running pip as the 'root' user can result in broken permissions and conflicting behaviour with the system package manager. It is recommended to use a virtual environment instead: https://pip.pypa.io/warnings/venv\u001b[0m\u001b[33m\n",
            "\u001b[0m/content\n",
            "Downloading...\n",
            "From: https://drive.google.com/u/1/uc?id=1-7x7qQfB7bIw2zV4Lr6-yhvMpjXC84Q5&confirm=t\n",
            "To: /content/tinycudann-1.7-cp310-cp310-linux_x86_64.whl\n",
            "100% 31.2M/31.2M [00:00<00:00, 179MB/s]\n",
            "Processing ./tinycudann-1.7-cp310-cp310-linux_x86_64.whl\n",
            "tinycudann is already installed with the same version as the provided wheel. Use --force-reinstall to force an installation of the wheel.\n",
            "\u001b[33mWARNING: Running pip as the 'root' user can result in broken permissions and conflicting behaviour with the system package manager. It is recommended to use a virtual environment instead: https://pip.pypa.io/warnings/venv\u001b[0m\u001b[33m\n",
            "\u001b[0m/content\n",
            "Reading package lists... Done\n",
            "Building dependency tree... Done\n",
            "Reading state information... Done\n",
            "colmap is already the newest version (3.7-2).\n",
            "0 upgraded, 0 newly installed, 0 to remove and 38 not upgraded.\n",
            "/content\n",
            "Collecting git+https://github.com/nerfstudio-project/nerfstudio.git\n",
            "  Cloning https://github.com/nerfstudio-project/nerfstudio.git to /tmp/pip-req-build-k07buccl\n",
            "  Running command git clone --filter=blob:none --quiet https://github.com/nerfstudio-project/nerfstudio.git /tmp/pip-req-build-k07buccl\n",
            "  Resolved https://github.com/nerfstudio-project/nerfstudio.git to commit 8e0c68754b2c440e2d83864fac586cddcac52dc4\n",
            "  Installing build dependencies ... \u001b[?25l\u001b[?25hdone\n",
            "  Getting requirements to build wheel ... \u001b[?25l\u001b[?25hdone\n",
            "  Installing backend dependencies ... \u001b[?25l\u001b[?25hdone\n",
            "  Preparing metadata (pyproject.toml) ... \u001b[?25l\u001b[?25hdone\n",
            "Requirement already satisfied: appdirs>=1.4 in /usr/local/lib/python3.10/dist-packages (from nerfstudio==1.0.2) (1.4.4)\n",
            "Requirement already satisfied: av>=9.2.0 in /usr/local/lib/python3.10/dist-packages (from nerfstudio==1.0.2) (11.0.0)\n",
            "Requirement already satisfied: awscli>=1.31.10 in /usr/local/lib/python3.10/dist-packages (from nerfstudio==1.0.2) (1.32.63)\n",
            "Requirement already satisfied: comet-ml>=3.33.8 in /usr/local/lib/python3.10/dist-packages (from nerfstudio==1.0.2) (3.39.0)\n",
            "Requirement already satisfied: cryptography>=38 in /usr/local/lib/python3.10/dist-packages (from nerfstudio==1.0.2) (42.0.5)\n",
            "Requirement already satisfied: tyro>=0.6.6 in /usr/local/lib/python3.10/dist-packages (from nerfstudio==1.0.2) (0.7.3)\n",
            "Requirement already satisfied: gdown>=4.6.0 in /usr/local/lib/python3.10/dist-packages (from nerfstudio==1.0.2) (4.7.3)\n",
            "Requirement already satisfied: ninja>=1.10 in /usr/local/lib/python3.10/dist-packages (from nerfstudio==1.0.2) (1.11.1.1)\n",
            "Requirement already satisfied: h5py>=2.9.0 in /usr/local/lib/python3.10/dist-packages (from nerfstudio==1.0.2) (3.9.0)\n",
            "Requirement already satisfied: imageio>=2.21.1 in /usr/local/lib/python3.10/dist-packages (from nerfstudio==1.0.2) (2.31.6)\n",
            "Requirement already satisfied: ipywidgets>=7.6 in /usr/local/lib/python3.10/dist-packages (from nerfstudio==1.0.2) (8.1.2)\n",
            "Requirement already satisfied: jaxtyping>=0.2.15 in /usr/local/lib/python3.10/dist-packages (from nerfstudio==1.0.2) (0.2.28)\n",
            "Requirement already satisfied: jupyterlab>=3.3.4 in /usr/local/lib/python3.10/dist-packages (from nerfstudio==1.0.2) (4.1.5)\n",
            "Requirement already satisfied: matplotlib>=3.6.0 in /usr/local/lib/python3.10/dist-packages (from nerfstudio==1.0.2) (3.7.1)\n",
            "Requirement already satisfied: mediapy>=1.1.0 in /usr/local/lib/python3.10/dist-packages (from nerfstudio==1.0.2) (1.2.0)\n",
            "Requirement already satisfied: msgpack>=1.0.4 in /usr/local/lib/python3.10/dist-packages (from nerfstudio==1.0.2) (1.0.8)\n",
            "Requirement already satisfied: msgpack-numpy>=0.4.8 in /usr/local/lib/python3.10/dist-packages (from nerfstudio==1.0.2) (0.4.8)\n",
            "Requirement already satisfied: nerfacc==0.5.2 in /usr/local/lib/python3.10/dist-packages (from nerfstudio==1.0.2) (0.5.2)\n",
            "Requirement already satisfied: open3d>=0.16.0 in /usr/local/lib/python3.10/dist-packages (from nerfstudio==1.0.2) (0.18.0)\n",
            "Requirement already satisfied: opencv-python==4.8.0.76 in /usr/local/lib/python3.10/dist-packages (from nerfstudio==1.0.2) (4.8.0.76)\n",
            "Requirement already satisfied: Pillow>=9.3.0 in /usr/local/lib/python3.10/dist-packages (from nerfstudio==1.0.2) (9.4.0)\n",
            "Requirement already satisfied: plotly>=5.7.0 in /usr/local/lib/python3.10/dist-packages (from nerfstudio==1.0.2) (5.15.0)\n",
            "Requirement already satisfied: protobuf!=3.20.0,<=3.20.3 in /usr/local/lib/python3.10/dist-packages (from nerfstudio==1.0.2) (3.20.3)\n",
            "Requirement already satisfied: pyngrok>=5.1.0 in /usr/local/lib/python3.10/dist-packages (from nerfstudio==1.0.2) (7.1.5)\n",
            "Requirement already satisfied: python-socketio>=5.7.1 in /usr/local/lib/python3.10/dist-packages (from nerfstudio==1.0.2) (5.11.1)\n",
            "Requirement already satisfied: pyquaternion>=0.9.9 in /usr/local/lib/python3.10/dist-packages (from nerfstudio==1.0.2) (0.9.9)\n",
            "Requirement already satisfied: requests in /usr/local/lib/python3.10/dist-packages (from nerfstudio==1.0.2) (2.31.0)\n",
            "Requirement already satisfied: rich>=12.5.1 in /usr/local/lib/python3.10/dist-packages (from nerfstudio==1.0.2) (13.7.1)\n",
            "Requirement already satisfied: scikit-image>=0.19.3 in /usr/local/lib/python3.10/dist-packages (from nerfstudio==1.0.2) (0.19.3)\n",
            "Requirement already satisfied: splines==0.3.0 in /usr/local/lib/python3.10/dist-packages (from nerfstudio==1.0.2) (0.3.0)\n",
            "Requirement already satisfied: tensorboard>=2.13.0 in /usr/local/lib/python3.10/dist-packages (from nerfstudio==1.0.2) (2.15.2)\n",
            "Requirement already satisfied: torch>=1.13.1 in /usr/local/lib/python3.10/dist-packages (from nerfstudio==1.0.2) (2.0.1+cu118)\n",
            "Requirement already satisfied: torchvision>=0.14.1 in /usr/local/lib/python3.10/dist-packages (from nerfstudio==1.0.2) (0.15.2+cu118)\n",
            "Requirement already satisfied: torchmetrics>=1.0.1 in /usr/local/lib/python3.10/dist-packages (from torchmetrics[image]>=1.0.1->nerfstudio==1.0.2) (1.3.1)\n",
            "Requirement already satisfied: typing-extensions>=4.4.0 in /usr/local/lib/python3.10/dist-packages (from nerfstudio==1.0.2) (4.10.0)\n",
            "Requirement already satisfied: viser==0.1.21 in /usr/local/lib/python3.10/dist-packages (from nerfstudio==1.0.2) (0.1.21)\n",
            "Requirement already satisfied: nuscenes-devkit>=1.1.1 in /usr/local/lib/python3.10/dist-packages (from nerfstudio==1.0.2) (1.1.9)\n",
            "Requirement already satisfied: wandb>=0.13.3 in /usr/local/lib/python3.10/dist-packages (from nerfstudio==1.0.2) (0.16.4)\n",
            "Requirement already satisfied: xatlas in /usr/local/lib/python3.10/dist-packages (from nerfstudio==1.0.2) (0.0.9)\n",
            "Requirement already satisfied: trimesh>=3.20.2 in /usr/local/lib/python3.10/dist-packages (from nerfstudio==1.0.2) (4.2.0)\n",
            "Requirement already satisfied: timm==0.6.7 in /usr/local/lib/python3.10/dist-packages (from nerfstudio==1.0.2) (0.6.7)\n",
            "Requirement already satisfied: gsplat>=0.1.6 in /usr/local/lib/python3.10/dist-packages (from nerfstudio==1.0.2) (0.1.8)\n",
            "Requirement already satisfied: pytorch-msssim in /usr/local/lib/python3.10/dist-packages (from nerfstudio==1.0.2) (1.0.0)\n",
            "Requirement already satisfied: pathos in /usr/local/lib/python3.10/dist-packages (from nerfstudio==1.0.2) (0.3.2)\n",
            "Requirement already satisfied: packaging in /usr/local/lib/python3.10/dist-packages (from nerfstudio==1.0.2) (24.0)\n",
            "Requirement already satisfied: rawpy>=0.18.1 in /usr/local/lib/python3.10/dist-packages (from nerfstudio==1.0.2) (0.19.1)\n",
            "Requirement already satisfied: pymeshlab>=2022.2.post2 in /usr/local/lib/python3.10/dist-packages (from nerfstudio==1.0.2) (2023.12.post1)\n",
            "Requirement already satisfied: numpy>=1.21.2 in /usr/local/lib/python3.10/dist-packages (from opencv-python==4.8.0.76->nerfstudio==1.0.2) (1.25.2)\n",
            "Requirement already satisfied: websockets>=10.4 in /usr/local/lib/python3.10/dist-packages (from viser==0.1.21->nerfstudio==1.0.2) (12.0)\n",
            "Requirement already satisfied: pyliblzfse>=0.4.1 in /usr/local/lib/python3.10/dist-packages (from viser==0.1.21->nerfstudio==1.0.2) (0.4.1)\n",
            "Requirement already satisfied: scipy>=1.7.3 in /usr/local/lib/python3.10/dist-packages (from viser==0.1.21->nerfstudio==1.0.2) (1.11.4)\n",
            "Requirement already satisfied: tqdm>=4.0.0 in /usr/local/lib/python3.10/dist-packages (from viser==0.1.21->nerfstudio==1.0.2) (4.66.2)\n",
            "Requirement already satisfied: nodeenv>=1.8.0 in /usr/local/lib/python3.10/dist-packages (from viser==0.1.21->nerfstudio==1.0.2) (1.8.0)\n",
            "Requirement already satisfied: psutil>=5.9.5 in /usr/local/lib/python3.10/dist-packages (from viser==0.1.21->nerfstudio==1.0.2) (5.9.5)\n",
            "Requirement already satisfied: yourdfpy>=0.0.53 in /usr/local/lib/python3.10/dist-packages (from viser==0.1.21->nerfstudio==1.0.2) (0.0.56)\n",
            "Requirement already satisfied: botocore==1.34.63 in /usr/local/lib/python3.10/dist-packages (from awscli>=1.31.10->nerfstudio==1.0.2) (1.34.63)\n",
            "Requirement already satisfied: docutils<0.17,>=0.10 in /usr/local/lib/python3.10/dist-packages (from awscli>=1.31.10->nerfstudio==1.0.2) (0.16)\n",
            "Requirement already satisfied: s3transfer<0.11.0,>=0.10.0 in /usr/local/lib/python3.10/dist-packages (from awscli>=1.31.10->nerfstudio==1.0.2) (0.10.1)\n",
            "Requirement already satisfied: PyYAML<6.1,>=3.10 in /usr/local/lib/python3.10/dist-packages (from awscli>=1.31.10->nerfstudio==1.0.2) (6.0.1)\n",
            "Requirement already satisfied: colorama<0.4.5,>=0.2.5 in /usr/local/lib/python3.10/dist-packages (from awscli>=1.31.10->nerfstudio==1.0.2) (0.4.4)\n",
            "Requirement already satisfied: rsa<4.8,>=3.1.2 in /usr/local/lib/python3.10/dist-packages (from awscli>=1.31.10->nerfstudio==1.0.2) (4.7.2)\n",
            "Requirement already satisfied: jmespath<2.0.0,>=0.7.1 in /usr/local/lib/python3.10/dist-packages (from botocore==1.34.63->awscli>=1.31.10->nerfstudio==1.0.2) (1.0.1)\n",
            "Requirement already satisfied: python-dateutil<3.0.0,>=2.1 in /usr/local/lib/python3.10/dist-packages (from botocore==1.34.63->awscli>=1.31.10->nerfstudio==1.0.2) (2.8.2)\n",
            "Requirement already satisfied: urllib3!=2.2.0,<3,>=1.25.4 in /usr/local/lib/python3.10/dist-packages (from botocore==1.34.63->awscli>=1.31.10->nerfstudio==1.0.2) (2.0.7)\n",
            "Requirement already satisfied: everett<3.2.0,>=1.0.1 in /usr/local/lib/python3.10/dist-packages (from everett[ini]<3.2.0,>=1.0.1->comet-ml>=3.33.8->nerfstudio==1.0.2) (3.1.0)\n",
            "Requirement already satisfied: jsonschema!=3.1.0,>=2.6.0 in /usr/local/lib/python3.10/dist-packages (from comet-ml>=3.33.8->nerfstudio==1.0.2) (4.19.2)\n",
            "Requirement already satisfied: python-box<7.0.0 in /usr/local/lib/python3.10/dist-packages (from comet-ml>=3.33.8->nerfstudio==1.0.2) (6.1.0)\n",
            "Requirement already satisfied: requests-toolbelt>=0.8.0 in /usr/local/lib/python3.10/dist-packages (from comet-ml>=3.33.8->nerfstudio==1.0.2) (1.0.0)\n",
            "Requirement already satisfied: semantic-version>=2.8.0 in /usr/local/lib/python3.10/dist-packages (from comet-ml>=3.33.8->nerfstudio==1.0.2) (2.10.0)\n",
            "Requirement already satisfied: sentry-sdk>=1.1.0 in /usr/local/lib/python3.10/dist-packages (from comet-ml>=3.33.8->nerfstudio==1.0.2) (1.42.0)\n",
            "Requirement already satisfied: simplejson in /usr/local/lib/python3.10/dist-packages (from comet-ml>=3.33.8->nerfstudio==1.0.2) (3.19.2)\n",
            "Requirement already satisfied: six in /usr/local/lib/python3.10/dist-packages (from comet-ml>=3.33.8->nerfstudio==1.0.2) (1.16.0)\n",
            "Requirement already satisfied: websocket-client<1.4.0,>=0.55.0 in /usr/local/lib/python3.10/dist-packages (from comet-ml>=3.33.8->nerfstudio==1.0.2) (1.3.3)\n",
            "Requirement already satisfied: wrapt>=1.11.2 in /usr/local/lib/python3.10/dist-packages (from comet-ml>=3.33.8->nerfstudio==1.0.2) (1.14.1)\n",
            "Requirement already satisfied: wurlitzer>=1.0.2 in /usr/local/lib/python3.10/dist-packages (from comet-ml>=3.33.8->nerfstudio==1.0.2) (3.0.3)\n",
            "Requirement already satisfied: dulwich!=0.20.33,>=0.20.6 in /usr/local/lib/python3.10/dist-packages (from comet-ml>=3.33.8->nerfstudio==1.0.2) (0.21.7)\n",
            "Requirement already satisfied: cffi>=1.12 in /usr/local/lib/python3.10/dist-packages (from cryptography>=38->nerfstudio==1.0.2) (1.16.0)\n",
            "Requirement already satisfied: filelock in /usr/local/lib/python3.10/dist-packages (from gdown>=4.6.0->nerfstudio==1.0.2) (3.13.1)\n",
            "Requirement already satisfied: beautifulsoup4 in /usr/local/lib/python3.10/dist-packages (from gdown>=4.6.0->nerfstudio==1.0.2) (4.12.3)\n",
            "Requirement already satisfied: comm>=0.1.3 in /usr/local/lib/python3.10/dist-packages (from ipywidgets>=7.6->nerfstudio==1.0.2) (0.2.2)\n",
            "Requirement already satisfied: ipython>=6.1.0 in /usr/local/lib/python3.10/dist-packages (from ipywidgets>=7.6->nerfstudio==1.0.2) (7.34.0)\n",
            "Requirement already satisfied: traitlets>=4.3.1 in /usr/local/lib/python3.10/dist-packages (from ipywidgets>=7.6->nerfstudio==1.0.2) (5.7.1)\n",
            "Requirement already satisfied: widgetsnbextension~=4.0.10 in /usr/local/lib/python3.10/dist-packages (from ipywidgets>=7.6->nerfstudio==1.0.2) (4.0.10)\n",
            "Requirement already satisfied: jupyterlab-widgets~=3.0.10 in /usr/local/lib/python3.10/dist-packages (from ipywidgets>=7.6->nerfstudio==1.0.2) (3.0.10)\n",
            "Requirement already satisfied: typeguard==2.13.3 in /usr/local/lib/python3.10/dist-packages (from jaxtyping>=0.2.15->nerfstudio==1.0.2) (2.13.3)\n",
            "Requirement already satisfied: async-lru>=1.0.0 in /usr/local/lib/python3.10/dist-packages (from jupyterlab>=3.3.4->nerfstudio==1.0.2) (2.0.4)\n",
            "Requirement already satisfied: httpx>=0.25.0 in /usr/local/lib/python3.10/dist-packages (from jupyterlab>=3.3.4->nerfstudio==1.0.2) (0.27.0)\n",
            "Requirement already satisfied: ipykernel in /usr/local/lib/python3.10/dist-packages (from jupyterlab>=3.3.4->nerfstudio==1.0.2) (5.5.6)\n",
            "Requirement already satisfied: jinja2>=3.0.3 in /usr/local/lib/python3.10/dist-packages (from jupyterlab>=3.3.4->nerfstudio==1.0.2) (3.1.3)\n",
            "Requirement already satisfied: jupyter-core in /usr/local/lib/python3.10/dist-packages (from jupyterlab>=3.3.4->nerfstudio==1.0.2) (5.7.1)\n",
            "Requirement already satisfied: jupyter-lsp>=2.0.0 in /usr/local/lib/python3.10/dist-packages (from jupyterlab>=3.3.4->nerfstudio==1.0.2) (2.2.4)\n",
            "Requirement already satisfied: jupyter-server<3,>=2.4.0 in /usr/local/lib/python3.10/dist-packages (from jupyterlab>=3.3.4->nerfstudio==1.0.2) (2.13.0)\n",
            "Requirement already satisfied: jupyterlab-server<3,>=2.19.0 in /usr/local/lib/python3.10/dist-packages (from jupyterlab>=3.3.4->nerfstudio==1.0.2) (2.25.4)\n",
            "Requirement already satisfied: notebook-shim>=0.2 in /usr/local/lib/python3.10/dist-packages (from jupyterlab>=3.3.4->nerfstudio==1.0.2) (0.2.4)\n",
            "Requirement already satisfied: tomli in /usr/local/lib/python3.10/dist-packages (from jupyterlab>=3.3.4->nerfstudio==1.0.2) (2.0.1)\n",
            "Requirement already satisfied: tornado>=6.2.0 in /usr/local/lib/python3.10/dist-packages (from jupyterlab>=3.3.4->nerfstudio==1.0.2) (6.3.3)\n",
            "Requirement already satisfied: contourpy>=1.0.1 in /usr/local/lib/python3.10/dist-packages (from matplotlib>=3.6.0->nerfstudio==1.0.2) (1.2.0)\n",
            "Requirement already satisfied: cycler>=0.10 in /usr/local/lib/python3.10/dist-packages (from matplotlib>=3.6.0->nerfstudio==1.0.2) (0.12.1)\n",
            "Requirement already satisfied: fonttools>=4.22.0 in /usr/local/lib/python3.10/dist-packages (from matplotlib>=3.6.0->nerfstudio==1.0.2) (4.49.0)\n",
            "Requirement already satisfied: kiwisolver>=1.0.1 in /usr/local/lib/python3.10/dist-packages (from matplotlib>=3.6.0->nerfstudio==1.0.2) (1.4.5)\n",
            "Requirement already satisfied: pyparsing>=2.3.1 in /usr/local/lib/python3.10/dist-packages (from matplotlib>=3.6.0->nerfstudio==1.0.2) (3.1.2)\n",
            "Requirement already satisfied: cachetools in /usr/local/lib/python3.10/dist-packages (from nuscenes-devkit>=1.1.1->nerfstudio==1.0.2) (5.3.3)\n",
            "Requirement already satisfied: descartes in /usr/local/lib/python3.10/dist-packages (from nuscenes-devkit>=1.1.1->nerfstudio==1.0.2) (1.1.0)\n",
            "Requirement already satisfied: fire in /usr/local/lib/python3.10/dist-packages (from nuscenes-devkit>=1.1.1->nerfstudio==1.0.2) (0.6.0)\n",
            "Requirement already satisfied: jupyter in /usr/local/lib/python3.10/dist-packages (from nuscenes-devkit>=1.1.1->nerfstudio==1.0.2) (1.0.0)\n",
            "Requirement already satisfied: scikit-learn in /usr/local/lib/python3.10/dist-packages (from nuscenes-devkit>=1.1.1->nerfstudio==1.0.2) (1.2.2)\n",
            "Requirement already satisfied: Shapely in /usr/local/lib/python3.10/dist-packages (from nuscenes-devkit>=1.1.1->nerfstudio==1.0.2) (2.0.3)\n",
            "Requirement already satisfied: pycocotools>=2.0.1 in /usr/local/lib/python3.10/dist-packages (from nuscenes-devkit>=1.1.1->nerfstudio==1.0.2) (2.0.7)\n",
            "Requirement already satisfied: dash>=2.6.0 in /usr/local/lib/python3.10/dist-packages (from open3d>=0.16.0->nerfstudio==1.0.2) (2.16.1)\n",
            "Requirement already satisfied: werkzeug>=2.2.3 in /usr/local/lib/python3.10/dist-packages (from open3d>=0.16.0->nerfstudio==1.0.2) (3.0.1)\n",
            "Requirement already satisfied: nbformat>=5.7.0 in /usr/local/lib/python3.10/dist-packages (from open3d>=0.16.0->nerfstudio==1.0.2) (5.9.2)\n",
            "Requirement already satisfied: configargparse in /usr/local/lib/python3.10/dist-packages (from open3d>=0.16.0->nerfstudio==1.0.2) (1.7)\n",
            "Requirement already satisfied: addict in /usr/local/lib/python3.10/dist-packages (from open3d>=0.16.0->nerfstudio==1.0.2) (2.4.0)\n",
            "Requirement already satisfied: pandas>=1.0 in /usr/local/lib/python3.10/dist-packages (from open3d>=0.16.0->nerfstudio==1.0.2) (1.5.3)\n",
            "Requirement already satisfied: tenacity>=6.2.0 in /usr/local/lib/python3.10/dist-packages (from plotly>=5.7.0->nerfstudio==1.0.2) (8.2.3)\n",
            "Requirement already satisfied: bidict>=0.21.0 in /usr/local/lib/python3.10/dist-packages (from python-socketio>=5.7.1->nerfstudio==1.0.2) (0.23.1)\n",
            "Requirement already satisfied: python-engineio>=4.8.0 in /usr/local/lib/python3.10/dist-packages (from python-socketio>=5.7.1->nerfstudio==1.0.2) (4.9.0)\n",
            "Requirement already satisfied: charset-normalizer<4,>=2 in /usr/local/lib/python3.10/dist-packages (from requests->nerfstudio==1.0.2) (3.3.2)\n",
            "Requirement already satisfied: idna<4,>=2.5 in /usr/local/lib/python3.10/dist-packages (from requests->nerfstudio==1.0.2) (3.6)\n",
            "Requirement already satisfied: certifi>=2017.4.17 in /usr/local/lib/python3.10/dist-packages (from requests->nerfstudio==1.0.2) (2024.2.2)\n",
            "Requirement already satisfied: markdown-it-py>=2.2.0 in /usr/local/lib/python3.10/dist-packages (from rich>=12.5.1->nerfstudio==1.0.2) (3.0.0)\n",
            "Requirement already satisfied: pygments<3.0.0,>=2.13.0 in /usr/local/lib/python3.10/dist-packages (from rich>=12.5.1->nerfstudio==1.0.2) (2.16.1)\n",
            "Requirement already satisfied: networkx>=2.2 in /usr/local/lib/python3.10/dist-packages (from scikit-image>=0.19.3->nerfstudio==1.0.2) (3.2.1)\n",
            "Requirement already satisfied: tifffile>=2019.7.26 in /usr/local/lib/python3.10/dist-packages (from scikit-image>=0.19.3->nerfstudio==1.0.2) (2024.2.12)\n",
            "Requirement already satisfied: PyWavelets>=1.1.1 in /usr/local/lib/python3.10/dist-packages (from scikit-image>=0.19.3->nerfstudio==1.0.2) (1.5.0)\n",
            "Requirement already satisfied: absl-py>=0.4 in /usr/local/lib/python3.10/dist-packages (from tensorboard>=2.13.0->nerfstudio==1.0.2) (1.4.0)\n",
            "Requirement already satisfied: grpcio>=1.48.2 in /usr/local/lib/python3.10/dist-packages (from tensorboard>=2.13.0->nerfstudio==1.0.2) (1.62.1)\n",
            "Requirement already satisfied: google-auth<3,>=1.6.3 in /usr/local/lib/python3.10/dist-packages (from tensorboard>=2.13.0->nerfstudio==1.0.2) (2.27.0)\n",
            "Requirement already satisfied: google-auth-oauthlib<2,>=0.5 in /usr/local/lib/python3.10/dist-packages (from tensorboard>=2.13.0->nerfstudio==1.0.2) (1.2.0)\n",
            "Requirement already satisfied: markdown>=2.6.8 in /usr/local/lib/python3.10/dist-packages (from tensorboard>=2.13.0->nerfstudio==1.0.2) (3.5.2)\n",
            "Requirement already satisfied: setuptools>=41.0.0 in /usr/local/lib/python3.10/dist-packages (from tensorboard>=2.13.0->nerfstudio==1.0.2) (67.7.2)\n",
            "Requirement already satisfied: tensorboard-data-server<0.8.0,>=0.7.0 in /usr/local/lib/python3.10/dist-packages (from tensorboard>=2.13.0->nerfstudio==1.0.2) (0.7.2)\n",
            "Requirement already satisfied: sympy in /usr/local/lib/python3.10/dist-packages (from torch>=1.13.1->nerfstudio==1.0.2) (1.12)\n",
            "Requirement already satisfied: triton==2.0.0 in /usr/local/lib/python3.10/dist-packages (from torch>=1.13.1->nerfstudio==1.0.2) (2.0.0)\n",
            "Requirement already satisfied: cmake in /usr/local/lib/python3.10/dist-packages (from triton==2.0.0->torch>=1.13.1->nerfstudio==1.0.2) (3.27.9)\n",
            "Requirement already satisfied: lit in /usr/local/lib/python3.10/dist-packages (from triton==2.0.0->torch>=1.13.1->nerfstudio==1.0.2) (18.1.1)\n",
            "Requirement already satisfied: lightning-utilities>=0.8.0 in /usr/local/lib/python3.10/dist-packages (from torchmetrics>=1.0.1->torchmetrics[image]>=1.0.1->nerfstudio==1.0.2) (0.10.1)\n",
            "Requirement already satisfied: torch-fidelity<=0.4.0 in /usr/local/lib/python3.10/dist-packages (from torchmetrics[image]>=1.0.1->nerfstudio==1.0.2) (0.3.0)\n",
            "Requirement already satisfied: docstring-parser>=0.14.1 in /usr/local/lib/python3.10/dist-packages (from tyro>=0.6.6->nerfstudio==1.0.2) (0.15)\n",
            "Requirement already satisfied: shtab>=1.5.6 in /usr/local/lib/python3.10/dist-packages (from tyro>=0.6.6->nerfstudio==1.0.2) (1.7.1)\n",
            "Requirement already satisfied: Click!=8.0.0,>=7.1 in /usr/local/lib/python3.10/dist-packages (from wandb>=0.13.3->nerfstudio==1.0.2) (8.1.7)\n",
            "Requirement already satisfied: GitPython!=3.1.29,>=1.0.0 in /usr/local/lib/python3.10/dist-packages (from wandb>=0.13.3->nerfstudio==1.0.2) (3.1.42)\n",
            "Requirement already satisfied: docker-pycreds>=0.4.0 in /usr/local/lib/python3.10/dist-packages (from wandb>=0.13.3->nerfstudio==1.0.2) (0.4.0)\n",
            "Requirement already satisfied: setproctitle in /usr/local/lib/python3.10/dist-packages (from wandb>=0.13.3->nerfstudio==1.0.2) (1.3.3)\n",
            "Requirement already satisfied: ppft>=1.7.6.8 in /usr/local/lib/python3.10/dist-packages (from pathos->nerfstudio==1.0.2) (1.7.6.8)\n",
            "Requirement already satisfied: dill>=0.3.8 in /usr/local/lib/python3.10/dist-packages (from pathos->nerfstudio==1.0.2) (0.3.8)\n",
            "Requirement already satisfied: pox>=0.3.4 in /usr/local/lib/python3.10/dist-packages (from pathos->nerfstudio==1.0.2) (0.3.4)\n",
            "Requirement already satisfied: multiprocess>=0.70.16 in /usr/local/lib/python3.10/dist-packages (from pathos->nerfstudio==1.0.2) (0.70.16)\n",
            "Requirement already satisfied: pycparser in /usr/local/lib/python3.10/dist-packages (from cffi>=1.12->cryptography>=38->nerfstudio==1.0.2) (2.21)\n",
            "Requirement already satisfied: Flask<3.1,>=1.0.4 in /usr/local/lib/python3.10/dist-packages (from dash>=2.6.0->open3d>=0.16.0->nerfstudio==1.0.2) (2.2.5)\n",
            "Requirement already satisfied: dash-html-components==2.0.0 in /usr/local/lib/python3.10/dist-packages (from dash>=2.6.0->open3d>=0.16.0->nerfstudio==1.0.2) (2.0.0)\n",
            "Requirement already satisfied: dash-core-components==2.0.0 in /usr/local/lib/python3.10/dist-packages (from dash>=2.6.0->open3d>=0.16.0->nerfstudio==1.0.2) (2.0.0)\n",
            "Requirement already satisfied: dash-table==5.0.0 in /usr/local/lib/python3.10/dist-packages (from dash>=2.6.0->open3d>=0.16.0->nerfstudio==1.0.2) (5.0.0)\n",
            "Requirement already satisfied: importlib-metadata in /usr/local/lib/python3.10/dist-packages (from dash>=2.6.0->open3d>=0.16.0->nerfstudio==1.0.2) (7.0.2)\n",
            "Requirement already satisfied: retrying in /usr/local/lib/python3.10/dist-packages (from dash>=2.6.0->open3d>=0.16.0->nerfstudio==1.0.2) (1.3.4)\n",
            "Requirement already satisfied: nest-asyncio in /usr/local/lib/python3.10/dist-packages (from dash>=2.6.0->open3d>=0.16.0->nerfstudio==1.0.2) (1.6.0)\n",
            "Requirement already satisfied: configobj in /usr/local/lib/python3.10/dist-packages (from everett[ini]<3.2.0,>=1.0.1->comet-ml>=3.33.8->nerfstudio==1.0.2) (5.0.8)\n",
            "Requirement already satisfied: gitdb<5,>=4.0.1 in /usr/local/lib/python3.10/dist-packages (from GitPython!=3.1.29,>=1.0.0->wandb>=0.13.3->nerfstudio==1.0.2) (4.0.11)\n",
            "Requirement already satisfied: pyasn1-modules>=0.2.1 in /usr/local/lib/python3.10/dist-packages (from google-auth<3,>=1.6.3->tensorboard>=2.13.0->nerfstudio==1.0.2) (0.3.0)\n",
            "Requirement already satisfied: requests-oauthlib>=0.7.0 in /usr/local/lib/python3.10/dist-packages (from google-auth-oauthlib<2,>=0.5->tensorboard>=2.13.0->nerfstudio==1.0.2) (1.4.0)\n",
            "Requirement already satisfied: anyio in /usr/local/lib/python3.10/dist-packages (from httpx>=0.25.0->jupyterlab>=3.3.4->nerfstudio==1.0.2) (3.7.1)\n",
            "Requirement already satisfied: httpcore==1.* in /usr/local/lib/python3.10/dist-packages (from httpx>=0.25.0->jupyterlab>=3.3.4->nerfstudio==1.0.2) (1.0.4)\n",
            "Requirement already satisfied: sniffio in /usr/local/lib/python3.10/dist-packages (from httpx>=0.25.0->jupyterlab>=3.3.4->nerfstudio==1.0.2) (1.3.1)\n",
            "Requirement already satisfied: h11<0.15,>=0.13 in /usr/local/lib/python3.10/dist-packages (from httpcore==1.*->httpx>=0.25.0->jupyterlab>=3.3.4->nerfstudio==1.0.2) (0.14.0)\n",
            "Requirement already satisfied: jedi>=0.16 in /usr/local/lib/python3.10/dist-packages (from ipython>=6.1.0->ipywidgets>=7.6->nerfstudio==1.0.2) (0.19.1)\n",
            "Requirement already satisfied: decorator in /usr/local/lib/python3.10/dist-packages (from ipython>=6.1.0->ipywidgets>=7.6->nerfstudio==1.0.2) (4.4.2)\n",
            "Requirement already satisfied: pickleshare in /usr/local/lib/python3.10/dist-packages (from ipython>=6.1.0->ipywidgets>=7.6->nerfstudio==1.0.2) (0.7.5)\n",
            "Requirement already satisfied: prompt-toolkit!=3.0.0,!=3.0.1,<3.1.0,>=2.0.0 in /usr/local/lib/python3.10/dist-packages (from ipython>=6.1.0->ipywidgets>=7.6->nerfstudio==1.0.2) (3.0.43)\n",
            "Requirement already satisfied: backcall in /usr/local/lib/python3.10/dist-packages (from ipython>=6.1.0->ipywidgets>=7.6->nerfstudio==1.0.2) (0.2.0)\n",
            "Requirement already satisfied: matplotlib-inline in /usr/local/lib/python3.10/dist-packages (from ipython>=6.1.0->ipywidgets>=7.6->nerfstudio==1.0.2) (0.1.6)\n",
            "Requirement already satisfied: pexpect>4.3 in /usr/local/lib/python3.10/dist-packages (from ipython>=6.1.0->ipywidgets>=7.6->nerfstudio==1.0.2) (4.9.0)\n",
            "Requirement already satisfied: MarkupSafe>=2.0 in /usr/local/lib/python3.10/dist-packages (from jinja2>=3.0.3->jupyterlab>=3.3.4->nerfstudio==1.0.2) (2.1.5)\n",
            "Requirement already satisfied: attrs>=22.2.0 in /usr/local/lib/python3.10/dist-packages (from jsonschema!=3.1.0,>=2.6.0->comet-ml>=3.33.8->nerfstudio==1.0.2) (23.2.0)\n",
            "Requirement already satisfied: jsonschema-specifications>=2023.03.6 in /usr/local/lib/python3.10/dist-packages (from jsonschema!=3.1.0,>=2.6.0->comet-ml>=3.33.8->nerfstudio==1.0.2) (2023.12.1)\n",
            "Requirement already satisfied: referencing>=0.28.4 in /usr/local/lib/python3.10/dist-packages (from jsonschema!=3.1.0,>=2.6.0->comet-ml>=3.33.8->nerfstudio==1.0.2) (0.33.0)\n",
            "Requirement already satisfied: rpds-py>=0.7.1 in /usr/local/lib/python3.10/dist-packages (from jsonschema!=3.1.0,>=2.6.0->comet-ml>=3.33.8->nerfstudio==1.0.2) (0.18.0)\n",
            "Requirement already satisfied: argon2-cffi in /usr/local/lib/python3.10/dist-packages (from jupyter-server<3,>=2.4.0->jupyterlab>=3.3.4->nerfstudio==1.0.2) (23.1.0)\n",
            "Requirement already satisfied: jupyter-client>=7.4.4 in /usr/local/lib/python3.10/dist-packages (from jupyter-server<3,>=2.4.0->jupyterlab>=3.3.4->nerfstudio==1.0.2) (7.4.9)\n",
            "Requirement already satisfied: jupyter-events>=0.9.0 in /usr/local/lib/python3.10/dist-packages (from jupyter-server<3,>=2.4.0->jupyterlab>=3.3.4->nerfstudio==1.0.2) (0.9.1)\n",
            "Requirement already satisfied: jupyter-server-terminals in /usr/local/lib/python3.10/dist-packages (from jupyter-server<3,>=2.4.0->jupyterlab>=3.3.4->nerfstudio==1.0.2) (0.5.3)\n",
            "Requirement already satisfied: nbconvert>=6.4.4 in /usr/local/lib/python3.10/dist-packages (from jupyter-server<3,>=2.4.0->jupyterlab>=3.3.4->nerfstudio==1.0.2) (6.5.4)\n",
            "Requirement already satisfied: overrides in /usr/local/lib/python3.10/dist-packages (from jupyter-server<3,>=2.4.0->jupyterlab>=3.3.4->nerfstudio==1.0.2) (7.7.0)\n",
            "Requirement already satisfied: prometheus-client in /usr/local/lib/python3.10/dist-packages (from jupyter-server<3,>=2.4.0->jupyterlab>=3.3.4->nerfstudio==1.0.2) (0.20.0)\n",
            "Requirement already satisfied: pyzmq>=24 in /usr/local/lib/python3.10/dist-packages (from jupyter-server<3,>=2.4.0->jupyterlab>=3.3.4->nerfstudio==1.0.2) (24.0.1)\n",
            "Requirement already satisfied: send2trash>=1.8.2 in /usr/local/lib/python3.10/dist-packages (from jupyter-server<3,>=2.4.0->jupyterlab>=3.3.4->nerfstudio==1.0.2) (1.8.2)\n",
            "Requirement already satisfied: terminado>=0.8.3 in /usr/local/lib/python3.10/dist-packages (from jupyter-server<3,>=2.4.0->jupyterlab>=3.3.4->nerfstudio==1.0.2) (0.18.0)\n",
            "Requirement already satisfied: platformdirs>=2.5 in /usr/local/lib/python3.10/dist-packages (from jupyter-core->jupyterlab>=3.3.4->nerfstudio==1.0.2) (4.2.0)\n",
            "Requirement already satisfied: babel>=2.10 in /usr/local/lib/python3.10/dist-packages (from jupyterlab-server<3,>=2.19.0->jupyterlab>=3.3.4->nerfstudio==1.0.2) (2.14.0)\n",
            "Requirement already satisfied: json5>=0.9.0 in /usr/local/lib/python3.10/dist-packages (from jupyterlab-server<3,>=2.19.0->jupyterlab>=3.3.4->nerfstudio==1.0.2) (0.9.22)\n",
            "Requirement already satisfied: mdurl~=0.1 in /usr/local/lib/python3.10/dist-packages (from markdown-it-py>=2.2.0->rich>=12.5.1->nerfstudio==1.0.2) (0.1.2)\n",
            "Requirement already satisfied: fastjsonschema in /usr/local/lib/python3.10/dist-packages (from nbformat>=5.7.0->open3d>=0.16.0->nerfstudio==1.0.2) (2.19.1)\n",
            "Requirement already satisfied: pytz>=2020.1 in /usr/local/lib/python3.10/dist-packages (from pandas>=1.0->open3d>=0.16.0->nerfstudio==1.0.2) (2023.4)\n",
            "Requirement already satisfied: simple-websocket>=0.10.0 in /usr/local/lib/python3.10/dist-packages (from python-engineio>=4.8.0->python-socketio>=5.7.1->nerfstudio==1.0.2) (1.0.0)\n",
            "Requirement already satisfied: pyasn1>=0.1.3 in /usr/local/lib/python3.10/dist-packages (from rsa<4.8,>=3.1.2->awscli>=1.31.10->nerfstudio==1.0.2) (0.5.1)\n",
            "Requirement already satisfied: joblib>=1.1.1 in /usr/local/lib/python3.10/dist-packages (from scikit-learn->nuscenes-devkit>=1.1.1->nerfstudio==1.0.2) (1.3.2)\n",
            "Requirement already satisfied: threadpoolctl>=2.0.0 in /usr/local/lib/python3.10/dist-packages (from scikit-learn->nuscenes-devkit>=1.1.1->nerfstudio==1.0.2) (3.3.0)\n",
            "Requirement already satisfied: lxml in /usr/local/lib/python3.10/dist-packages (from yourdfpy>=0.0.53->viser==0.1.21->nerfstudio==1.0.2) (4.9.4)\n",
            "Requirement already satisfied: soupsieve>1.2 in /usr/local/lib/python3.10/dist-packages (from beautifulsoup4->gdown>=4.6.0->nerfstudio==1.0.2) (2.5)\n",
            "Requirement already satisfied: termcolor in /usr/local/lib/python3.10/dist-packages (from fire->nuscenes-devkit>=1.1.1->nerfstudio==1.0.2) (2.4.0)\n",
            "Requirement already satisfied: ipython-genutils in /usr/local/lib/python3.10/dist-packages (from ipykernel->jupyterlab>=3.3.4->nerfstudio==1.0.2) (0.2.0)\n",
            "Requirement already satisfied: notebook in /usr/local/lib/python3.10/dist-packages (from jupyter->nuscenes-devkit>=1.1.1->nerfstudio==1.0.2) (6.5.5)\n",
            "Requirement already satisfied: qtconsole in /usr/local/lib/python3.10/dist-packages (from jupyter->nuscenes-devkit>=1.1.1->nerfstudio==1.0.2) (5.5.1)\n",
            "Requirement already satisfied: jupyter-console in /usr/local/lib/python3.10/dist-packages (from jupyter->nuscenes-devkit>=1.1.1->nerfstudio==1.0.2) (6.1.0)\n",
            "Requirement already satisfied: PySocks!=1.5.7,>=1.5.6 in /usr/local/lib/python3.10/dist-packages (from requests[socks]->gdown>=4.6.0->nerfstudio==1.0.2) (1.7.1)\n",
            "Requirement already satisfied: mpmath>=0.19 in /usr/local/lib/python3.10/dist-packages (from sympy->torch>=1.13.1->nerfstudio==1.0.2) (1.3.0)\n",
            "Requirement already satisfied: exceptiongroup in /usr/local/lib/python3.10/dist-packages (from anyio->httpx>=0.25.0->jupyterlab>=3.3.4->nerfstudio==1.0.2) (1.2.0)\n",
            "Requirement already satisfied: itsdangerous>=2.0 in /usr/local/lib/python3.10/dist-packages (from Flask<3.1,>=1.0.4->dash>=2.6.0->open3d>=0.16.0->nerfstudio==1.0.2) (2.1.2)\n",
            "Requirement already satisfied: smmap<6,>=3.0.1 in /usr/local/lib/python3.10/dist-packages (from gitdb<5,>=4.0.1->GitPython!=3.1.29,>=1.0.0->wandb>=0.13.3->nerfstudio==1.0.2) (5.0.1)\n",
            "Requirement already satisfied: parso<0.9.0,>=0.8.3 in /usr/local/lib/python3.10/dist-packages (from jedi>=0.16->ipython>=6.1.0->ipywidgets>=7.6->nerfstudio==1.0.2) (0.8.3)\n",
            "Requirement already satisfied: entrypoints in /usr/local/lib/python3.10/dist-packages (from jupyter-client>=7.4.4->jupyter-server<3,>=2.4.0->jupyterlab>=3.3.4->nerfstudio==1.0.2) (0.4)\n",
            "Requirement already satisfied: python-json-logger>=2.0.4 in /usr/local/lib/python3.10/dist-packages (from jupyter-events>=0.9.0->jupyter-server<3,>=2.4.0->jupyterlab>=3.3.4->nerfstudio==1.0.2) (2.0.7)\n",
            "Requirement already satisfied: rfc3339-validator in /usr/local/lib/python3.10/dist-packages (from jupyter-events>=0.9.0->jupyter-server<3,>=2.4.0->jupyterlab>=3.3.4->nerfstudio==1.0.2) (0.1.4)\n",
            "Requirement already satisfied: rfc3986-validator>=0.1.1 in /usr/local/lib/python3.10/dist-packages (from jupyter-events>=0.9.0->jupyter-server<3,>=2.4.0->jupyterlab>=3.3.4->nerfstudio==1.0.2) (0.1.1)\n",
            "Requirement already satisfied: bleach in /usr/local/lib/python3.10/dist-packages (from nbconvert>=6.4.4->jupyter-server<3,>=2.4.0->jupyterlab>=3.3.4->nerfstudio==1.0.2) (6.1.0)\n",
            "Requirement already satisfied: defusedxml in /usr/local/lib/python3.10/dist-packages (from nbconvert>=6.4.4->jupyter-server<3,>=2.4.0->jupyterlab>=3.3.4->nerfstudio==1.0.2) (0.7.1)\n",
            "Requirement already satisfied: jupyterlab-pygments in /usr/local/lib/python3.10/dist-packages (from nbconvert>=6.4.4->jupyter-server<3,>=2.4.0->jupyterlab>=3.3.4->nerfstudio==1.0.2) (0.3.0)\n",
            "Requirement already satisfied: mistune<2,>=0.8.1 in /usr/local/lib/python3.10/dist-packages (from nbconvert>=6.4.4->jupyter-server<3,>=2.4.0->jupyterlab>=3.3.4->nerfstudio==1.0.2) (0.8.4)\n",
            "Requirement already satisfied: nbclient>=0.5.0 in /usr/local/lib/python3.10/dist-packages (from nbconvert>=6.4.4->jupyter-server<3,>=2.4.0->jupyterlab>=3.3.4->nerfstudio==1.0.2) (0.9.0)\n",
            "Requirement already satisfied: pandocfilters>=1.4.1 in /usr/local/lib/python3.10/dist-packages (from nbconvert>=6.4.4->jupyter-server<3,>=2.4.0->jupyterlab>=3.3.4->nerfstudio==1.0.2) (1.5.1)\n",
            "Requirement already satisfied: tinycss2 in /usr/local/lib/python3.10/dist-packages (from nbconvert>=6.4.4->jupyter-server<3,>=2.4.0->jupyterlab>=3.3.4->nerfstudio==1.0.2) (1.2.1)\n",
            "Requirement already satisfied: ptyprocess>=0.5 in /usr/local/lib/python3.10/dist-packages (from pexpect>4.3->ipython>=6.1.0->ipywidgets>=7.6->nerfstudio==1.0.2) (0.7.0)\n",
            "Requirement already satisfied: wcwidth in /usr/local/lib/python3.10/dist-packages (from prompt-toolkit!=3.0.0,!=3.0.1,<3.1.0,>=2.0.0->ipython>=6.1.0->ipywidgets>=7.6->nerfstudio==1.0.2) (0.2.13)\n",
            "Requirement already satisfied: oauthlib>=3.0.0 in /usr/local/lib/python3.10/dist-packages (from requests-oauthlib>=0.7.0->google-auth-oauthlib<2,>=0.5->tensorboard>=2.13.0->nerfstudio==1.0.2) (3.2.2)\n",
            "Requirement already satisfied: wsproto in /usr/local/lib/python3.10/dist-packages (from simple-websocket>=0.10.0->python-engineio>=4.8.0->python-socketio>=5.7.1->nerfstudio==1.0.2) (1.2.0)\n",
            "Requirement already satisfied: colorlog in /usr/local/lib/python3.10/dist-packages (from trimesh[easy]>=3.11.2->yourdfpy>=0.0.53->viser==0.1.21->nerfstudio==1.0.2) (6.8.2)\n",
            "Requirement already satisfied: mapbox-earcut in /usr/local/lib/python3.10/dist-packages (from trimesh[easy]>=3.11.2->yourdfpy>=0.0.53->viser==0.1.21->nerfstudio==1.0.2) (1.0.1)\n",
            "Requirement already satisfied: chardet in /usr/local/lib/python3.10/dist-packages (from trimesh[easy]>=3.11.2->yourdfpy>=0.0.53->viser==0.1.21->nerfstudio==1.0.2) (5.2.0)\n",
            "Requirement already satisfied: svg.path in /usr/local/lib/python3.10/dist-packages (from trimesh[easy]>=3.11.2->yourdfpy>=0.0.53->viser==0.1.21->nerfstudio==1.0.2) (6.3)\n",
            "Requirement already satisfied: pycollada in /usr/local/lib/python3.10/dist-packages (from trimesh[easy]>=3.11.2->yourdfpy>=0.0.53->viser==0.1.21->nerfstudio==1.0.2) (0.8)\n",
            "Requirement already satisfied: xxhash in /usr/local/lib/python3.10/dist-packages (from trimesh[easy]>=3.11.2->yourdfpy>=0.0.53->viser==0.1.21->nerfstudio==1.0.2) (3.4.1)\n",
            "Requirement already satisfied: rtree in /usr/local/lib/python3.10/dist-packages (from trimesh[easy]>=3.11.2->yourdfpy>=0.0.53->viser==0.1.21->nerfstudio==1.0.2) (1.2.0)\n",
            "Requirement already satisfied: embreex in /usr/local/lib/python3.10/dist-packages (from trimesh[easy]>=3.11.2->yourdfpy>=0.0.53->viser==0.1.21->nerfstudio==1.0.2) (2.17.7.post4)\n",
            "Requirement already satisfied: vhacdx in /usr/local/lib/python3.10/dist-packages (from trimesh[easy]>=3.11.2->yourdfpy>=0.0.53->viser==0.1.21->nerfstudio==1.0.2) (0.0.6)\n",
            "Requirement already satisfied: argon2-cffi-bindings in /usr/local/lib/python3.10/dist-packages (from argon2-cffi->jupyter-server<3,>=2.4.0->jupyterlab>=3.3.4->nerfstudio==1.0.2) (21.2.0)\n",
            "Requirement already satisfied: zipp>=0.5 in /usr/local/lib/python3.10/dist-packages (from importlib-metadata->dash>=2.6.0->open3d>=0.16.0->nerfstudio==1.0.2) (3.17.0)\n",
            "Requirement already satisfied: nbclassic>=0.4.7 in /usr/local/lib/python3.10/dist-packages (from notebook->jupyter->nuscenes-devkit>=1.1.1->nerfstudio==1.0.2) (1.0.0)\n",
            "Requirement already satisfied: qtpy>=2.4.0 in /usr/local/lib/python3.10/dist-packages (from qtconsole->jupyter->nuscenes-devkit>=1.1.1->nerfstudio==1.0.2) (2.4.1)\n",
            "Requirement already satisfied: fqdn in /usr/local/lib/python3.10/dist-packages (from jsonschema[format-nongpl]>=4.18.0->jupyter-events>=0.9.0->jupyter-server<3,>=2.4.0->jupyterlab>=3.3.4->nerfstudio==1.0.2) (1.5.1)\n",
            "Requirement already satisfied: isoduration in /usr/local/lib/python3.10/dist-packages (from jsonschema[format-nongpl]>=4.18.0->jupyter-events>=0.9.0->jupyter-server<3,>=2.4.0->jupyterlab>=3.3.4->nerfstudio==1.0.2) (20.11.0)\n",
            "Requirement already satisfied: jsonpointer>1.13 in /usr/local/lib/python3.10/dist-packages (from jsonschema[format-nongpl]>=4.18.0->jupyter-events>=0.9.0->jupyter-server<3,>=2.4.0->jupyterlab>=3.3.4->nerfstudio==1.0.2) (2.4)\n",
            "Requirement already satisfied: uri-template in /usr/local/lib/python3.10/dist-packages (from jsonschema[format-nongpl]>=4.18.0->jupyter-events>=0.9.0->jupyter-server<3,>=2.4.0->jupyterlab>=3.3.4->nerfstudio==1.0.2) (1.3.0)\n",
            "Requirement already satisfied: webcolors>=1.11 in /usr/local/lib/python3.10/dist-packages (from jsonschema[format-nongpl]>=4.18.0->jupyter-events>=0.9.0->jupyter-server<3,>=2.4.0->jupyterlab>=3.3.4->nerfstudio==1.0.2) (1.13)\n",
            "Requirement already satisfied: webencodings in /usr/local/lib/python3.10/dist-packages (from bleach->nbconvert>=6.4.4->jupyter-server<3,>=2.4.0->jupyterlab>=3.3.4->nerfstudio==1.0.2) (0.5.1)\n",
            "Requirement already satisfied: arrow>=0.15.0 in /usr/local/lib/python3.10/dist-packages (from isoduration->jsonschema[format-nongpl]>=4.18.0->jupyter-events>=0.9.0->jupyter-server<3,>=2.4.0->jupyterlab>=3.3.4->nerfstudio==1.0.2) (1.3.0)\n",
            "Requirement already satisfied: types-python-dateutil>=2.8.10 in /usr/local/lib/python3.10/dist-packages (from arrow>=0.15.0->isoduration->jsonschema[format-nongpl]>=4.18.0->jupyter-events>=0.9.0->jupyter-server<3,>=2.4.0->jupyterlab>=3.3.4->nerfstudio==1.0.2) (2.9.0.20240315)\n",
            "\u001b[33mWARNING: Running pip as the 'root' user can result in broken permissions and conflicting behaviour with the system package manager. It is recommended to use a virtual environment instead: https://pip.pypa.io/warnings/venv\u001b[0m\u001b[33m\n",
            "\u001b[0m"
          ]
        }
      ]
    },
    {
      "cell_type": "markdown",
      "source": [
        "##Old"
      ],
      "metadata": {
        "id": "mHni0kUEa2Su"
      }
    },
    {
      "cell_type": "code",
      "execution_count": null,
      "metadata": {
        "colab": {
          "base_uri": "https://localhost:8080/"
        },
        "id": "8iAKWkycFryr",
        "outputId": "9f87ce25-3f56-421a-8f60-5394251b59dc"
      },
      "outputs": [
        {
          "name": "stdout",
          "output_type": "stream",
          "text": [
            "/content\n",
            "fatal: destination path 'gaussian-splatting' already exists and is not an empty directory.\n",
            "/content/gaussian-splatting\n",
            "\u001b[2K     \u001b[90m━━━━━━━━━━━━━━━━━━━━━━━━━━━━━━━━━━━━━━━━\u001b[0m \u001b[32m3.0/3.0 MB\u001b[0m \u001b[31m80.5 MB/s\u001b[0m eta \u001b[36m0:00:00\u001b[0m\n",
            "\u001b[2K     \u001b[90m━━━━━━━━━━━━━━━━━━━━━━━━━━━━━━━━━━━━━━━━\u001b[0m \u001b[32m2.9/2.9 MB\u001b[0m \u001b[31m2.0 MB/s\u001b[0m eta \u001b[36m0:00:00\u001b[0m\n",
            "\u001b[?25h"
          ]
        }
      ],
      "source": [
        "%cd /content\n",
        "!git clone --recursive https://github.com/camenduru/gaussian-splatting\n",
        "!pip install -q plyfile\n",
        "\n",
        "%cd /content/gaussian-splatting\n",
        "!pip install -q https://huggingface.co/camenduru/gaussian-splatting/resolve/main/diff_gaussian_rasterization-0.0.0-cp310-cp310-linux_x86_64.whl\n",
        "!pip install -q https://huggingface.co/camenduru/gaussian-splatting/resolve/main/simple_knn-0.0.0-cp310-cp310-linux_x86_64.whl"
      ]
    },
    {
      "cell_type": "code",
      "execution_count": null,
      "metadata": {
        "colab": {
          "base_uri": "https://localhost:8080/"
        },
        "id": "qMv60fo48ACs",
        "outputId": "87f49650-3a6c-4d37-d5f1-95ee0922d4f3"
      },
      "outputs": [
        {
          "name": "stdout",
          "output_type": "stream",
          "text": [
            "Processing ./submodules/diff-gaussian-rasterization\n",
            "  Preparing metadata (setup.py) ... \u001b[?25l\u001b[?25hdone\n",
            "Building wheels for collected packages: diff-gaussian-rasterization\n",
            "  Building wheel for diff-gaussian-rasterization (setup.py) ... \u001b[?25l\u001b[?25hdone\n",
            "  Created wheel for diff-gaussian-rasterization: filename=diff_gaussian_rasterization-0.0.0-cp310-cp310-linux_x86_64.whl size=3147155 sha256=ad5ab7b963a81c3be8e4dbe4eabd9bd316ad868f91271b1defe84e1ffb1663a6\n",
            "  Stored in directory: /root/.cache/pip/wheels/e4/fd/3a/84782e92cd21de96696bbf2ba34361debad5701fa48bfe9e6b\n",
            "Successfully built diff-gaussian-rasterization\n",
            "Installing collected packages: diff-gaussian-rasterization\n",
            "  Attempting uninstall: diff-gaussian-rasterization\n",
            "    Found existing installation: diff-gaussian-rasterization 0.0.0\n",
            "    Uninstalling diff-gaussian-rasterization-0.0.0:\n",
            "      Successfully uninstalled diff-gaussian-rasterization-0.0.0\n",
            "Successfully installed diff-gaussian-rasterization-0.0.0\n",
            "Processing ./submodules/simple-knn\n",
            "  Preparing metadata (setup.py) ... \u001b[?25l\u001b[?25hdone\n",
            "Building wheels for collected packages: simple-knn\n",
            "  Building wheel for simple-knn (setup.py) ... \u001b[?25l\u001b[?25hdone\n",
            "  Created wheel for simple-knn: filename=simple_knn-0.0.0-cp310-cp310-linux_x86_64.whl size=2930130 sha256=9cadf6089774599386c0952f19ab6ec179cc6ebd969fee9eb2aeb36f95d6c4dc\n",
            "  Stored in directory: /root/.cache/pip/wheels/81/d6/08/724a60e90d22d28442460572b541e07593de0440482e43701c\n",
            "Successfully built simple-knn\n",
            "Installing collected packages: simple-knn\n",
            "  Attempting uninstall: simple-knn\n",
            "    Found existing installation: simple-knn 0.0.0\n",
            "    Uninstalling simple-knn-0.0.0:\n",
            "      Successfully uninstalled simple-knn-0.0.0\n",
            "Successfully installed simple-knn-0.0.0\n"
          ]
        }
      ],
      "source": [
        "!pip install -U submodules/diff-gaussian-rasterization\n",
        "!pip install -U submodules/simple-knn"
      ]
    },
    {
      "cell_type": "markdown",
      "source": [
        "#Dataset"
      ],
      "metadata": {
        "id": "ykLFGRxZay6V"
      }
    },
    {
      "cell_type": "code",
      "execution_count": 4,
      "metadata": {
        "id": "Qj-sBBwbJNIJ"
      },
      "outputs": [],
      "source": [
        "import os\n",
        "dataset_dir = \"/content/drive/MyDrive/Testing/GaussianSplatting/Datasets/Hellyer_Junk\"\n",
        "dataset_dir = \"/content/HellyerJunk/\"\n",
        "\n",
        "output_dir = os.path.join(dataset_dir,\"output\")\n",
        "\n",
        "if not os.path.exists(output_dir):\n",
        "   os.makedirs(output_dir)"
      ]
    },
    {
      "cell_type": "markdown",
      "source": [
        "# Training"
      ],
      "metadata": {
        "id": "UE1pQ3WQe0In"
      }
    },
    {
      "cell_type": "code",
      "source": [
        "#@markdown <h1>Start Training</h1>\n",
        "\n",
        "%cd /content\n",
        "!pip install colab-xterm\n",
        "%load_ext colabxterm\n",
        "%env TERM=xterm\n",
        "from IPython.display import clear_output\n",
        "clear_output(wait=True)\n",
        "# if os.path.exists(f\"data/nerfstudio/{scene}/transforms.json\"):\n",
        "print(\"\\033[1m\" + \"Copy and paste the following command into the terminal window that pops up under this cell.\" + \"\\033[0m\")\n",
        "print(f\"ns-train nerfacto --viewer.websocket-port 7007 --viewer.make-share-url True nerfstudio-data --data data/nerfstudio/{scene} --downscale-factor 4\")\n",
        "print()\n",
        "%xterm"
      ],
      "metadata": {
        "cellView": "code",
        "id": "73SDeG8pe4c_"
      },
      "execution_count": null,
      "outputs": []
    },
    {
      "cell_type": "markdown",
      "source": [
        "##Old"
      ],
      "metadata": {
        "id": "H-T2rgtne2RR"
      }
    },
    {
      "cell_type": "code",
      "execution_count": null,
      "metadata": {
        "colab": {
          "background_save": true,
          "base_uri": "https://localhost:8080/"
        },
        "id": "2aTf2eFLNJ5w",
        "outputId": "1df7f6e1-ebab-424f-924b-abd473a31d33"
      },
      "outputs": [
        {
          "name": "stdout",
          "output_type": "stream",
          "text": [
            "2023-12-23 12:05:11.233079: E external/local_xla/xla/stream_executor/cuda/cuda_dnn.cc:9261] Unable to register cuDNN factory: Attempting to register factory for plugin cuDNN when one has already been registered\n",
            "2023-12-23 12:05:11.233134: E external/local_xla/xla/stream_executor/cuda/cuda_fft.cc:607] Unable to register cuFFT factory: Attempting to register factory for plugin cuFFT when one has already been registered\n",
            "2023-12-23 12:05:11.234444: E external/local_xla/xla/stream_executor/cuda/cuda_blas.cc:1515] Unable to register cuBLAS factory: Attempting to register factory for plugin cuBLAS when one has already been registered\n",
            "2023-12-23 12:05:11.241980: I tensorflow/core/platform/cpu_feature_guard.cc:182] This TensorFlow binary is optimized to use available CPU instructions in performance-critical operations.\n",
            "To enable the following instructions: AVX2 FMA, in other operations, rebuild TensorFlow with the appropriate compiler flags.\n",
            "2023-12-23 12:05:12.252357: W tensorflow/compiler/tf2tensorrt/utils/py_utils.cc:38] TF-TRT Warning: Could not find TensorRT\n",
            "Optimizing /content/drive/MyDrive/Testing/GaussianSplatting/Datasets/5_Wendover/LivingOnly/output\n",
            "Output folder: /content/drive/MyDrive/Testing/GaussianSplatting/Datasets/5_Wendover/LivingOnly/output [23/12 12:05:13]\n",
            "Reading camera 153/153 [23/12 12:05:14]\n",
            "Loading Training Cameras [23/12 12:05:14]\n",
            "[ INFO ] Encountered quite large input images (>1.6K pixels width), rescaling to 1.6K.\n",
            " If this is not desired, please explicitly specify '--resolution/-r' as 1 [23/12 12:05:14]\n",
            "Loading Test Cameras [23/12 12:05:41]\n",
            "Number of points at initialisation :  37839 [23/12 12:05:41]\n",
            "Training progress:  23% 7000/30000 [13:09<56:50,  6.74it/s, Loss=0.0697764]\n",
            "[ITER 7000] Evaluating train: L1 0.04834909811615944 PSNR 20.547798919677735 [23/12 12:19:01]\n",
            "Training progress: 100% 30000/30000 [1:18:21<00:00,  6.38it/s, Loss=0.0394123]\n",
            "\n",
            "[ITER 30000] Evaluating train: L1 0.02538569122552872 PSNR 22.791470718383792 [23/12 13:24:08]\n",
            "\n",
            "[ITER 30000] Saving Gaussians [23/12 13:24:08]\n",
            "\n",
            "Training complete. [23/12 13:24:16]\n"
          ]
        }
      ],
      "source": [
        "!python train.py -s $dataset_dir -m $output_dir -r 4 --iterations 60000 --save_iterations 30000 60000"
      ]
    },
    {
      "cell_type": "code",
      "execution_count": null,
      "metadata": {
        "id": "XAVa9OB6FvKC"
      },
      "outputs": [],
      "source": [
        "!python train.py -s $dataset_dir -m $output_dir -r 4 --iterations 30000 --save_iterations 30000 --checkpoint_iterations 30000 --scaling_lr 0.001"
      ]
    },
    {
      "cell_type": "code",
      "execution_count": null,
      "metadata": {
        "id": "hv169_MgMcS8"
      },
      "outputs": [],
      "source": [
        "!python train.py -s $dataset_dir -m $output_dir -r 4 --iterations 600000 --save_iterations 7500 15000 30000 45000 60000 --start_checkpoint /content/drive/MyDrive/Testing/GaussianSplatting/Datasets/EHN_Stream/output/events.out.tfevents.1696659285.2b5713f07ef2.8001.0"
      ]
    }
  ],
  "metadata": {
    "accelerator": "GPU",
    "colab": {
      "machine_shape": "hm",
      "provenance": [],
      "collapsed_sections": [
        "mHni0kUEa2Su"
      ],
      "include_colab_link": true
    },
    "kernelspec": {
      "display_name": "Python 3",
      "name": "python3"
    },
    "language_info": {
      "name": "python"
    }
  },
  "nbformat": 4,
  "nbformat_minor": 0
}